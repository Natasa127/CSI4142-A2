{
 "cells": [
  {
   "cell_type": "markdown",
   "metadata": {},
   "source": [
    "# Assignment 2: Data Cleaning - Part 1: Validity Checker\n",
    "## Group 105\n",
    "- Natasa Bolic (300241734)\n",
    "- Brent Palmer (300193610)\n",
    "## Imports"
   ]
  },
  {
   "cell_type": "code",
   "execution_count": 1,
   "metadata": {},
   "outputs": [],
   "source": [
    "# Imports\n",
    "import pandas as pd\n",
    "import numpy as np\n",
    "import matplotlib.pyplot as plt\n",
    "import seaborn as sns\n",
    "import re"
   ]
  },
  {
   "cell_type": "markdown",
   "metadata": {},
   "source": [
    "## Introduction\n",
    "\n",
    "Paragraph here"
   ]
  },
  {
   "cell_type": "markdown",
   "metadata": {},
   "source": [
    "## Dataset Description"
   ]
  },
  {
   "cell_type": "markdown",
   "metadata": {},
   "source": [
    "**Url:** https://www.kaggle.com/datasets/ahmedmohamed2003/cafe-sales-dirty-data-for-cleaning-training <br>\n",
    "**Name:** Cafe Sales - Dirty Data for Cleaning Training <br>\n",
    "**Author:** Ahmed Mohamed <br>\n",
    "**Purpose:** The dirty cafe sales dataset was fabricated to practice data cleaning, deliberately including missing data, inconsistencies, and errors. The Kaggle description specifies that the dataset \"can be used to practice cleaning techniques, data wrangling, and feature engineering.\"<br>\n",
    "**Shape:** There are 10,000 rows and 8 columns. (10000, 8)<br>\n",
    "**Features:** \n",
    "- `Transaction ID` (categorical): A unique id assigned to each transaction.\n",
    "- `Item` (categorical): The name of the purchased item.\n",
    "- `Quantity` (numerical): The count of the purchased item.\n",
    "- `Price Per Unit` (numerical): The price of one unit of the purchased item, measured in dollars.\n",
    "- `Total Spent` (numerical): The total amount spent in the transaction, measured in dollars. (Quantity * Price Per Unit)\n",
    "- `Payment Method` (categorical): The transaction's method of payment.\n",
    "- `Location` (categorical): The location of the transaction.\n",
    "- `Transaction Date` (numerical): The transaction date.\n",
    "\n",
    "Note that all the features may contain missing or invalid values, except for transaction ID, which is always present and unique."
   ]
  },
  {
   "cell_type": "markdown",
   "metadata": {},
   "source": [
    "## Loading Dataset and Basic Exploration"
   ]
  },
  {
   "cell_type": "code",
   "execution_count": 2,
   "metadata": {},
   "outputs": [
    {
     "data": {
      "text/html": [
       "<div>\n",
       "<style scoped>\n",
       "    .dataframe tbody tr th:only-of-type {\n",
       "        vertical-align: middle;\n",
       "    }\n",
       "\n",
       "    .dataframe tbody tr th {\n",
       "        vertical-align: top;\n",
       "    }\n",
       "\n",
       "    .dataframe thead th {\n",
       "        text-align: right;\n",
       "    }\n",
       "</style>\n",
       "<table border=\"1\" class=\"dataframe\">\n",
       "  <thead>\n",
       "    <tr style=\"text-align: right;\">\n",
       "      <th></th>\n",
       "      <th>Transaction ID</th>\n",
       "      <th>Item</th>\n",
       "      <th>Quantity</th>\n",
       "      <th>Price Per Unit</th>\n",
       "      <th>Total Spent</th>\n",
       "      <th>Payment Method</th>\n",
       "      <th>Location</th>\n",
       "      <th>Transaction Date</th>\n",
       "    </tr>\n",
       "  </thead>\n",
       "  <tbody>\n",
       "    <tr>\n",
       "      <th>0</th>\n",
       "      <td>TXN_1961373</td>\n",
       "      <td>Coffee</td>\n",
       "      <td>2</td>\n",
       "      <td>2.0</td>\n",
       "      <td>4.0</td>\n",
       "      <td>Credit Card</td>\n",
       "      <td>Takeaway</td>\n",
       "      <td>2023-09-08</td>\n",
       "    </tr>\n",
       "    <tr>\n",
       "      <th>1</th>\n",
       "      <td>TXN_4977031</td>\n",
       "      <td>Cake</td>\n",
       "      <td>4</td>\n",
       "      <td>3.0</td>\n",
       "      <td>12.0</td>\n",
       "      <td>Cash</td>\n",
       "      <td>In-store</td>\n",
       "      <td>2023-05-16</td>\n",
       "    </tr>\n",
       "    <tr>\n",
       "      <th>2</th>\n",
       "      <td>TXN_4271903</td>\n",
       "      <td>Cookie</td>\n",
       "      <td>4</td>\n",
       "      <td>1.0</td>\n",
       "      <td>ERROR</td>\n",
       "      <td>Credit Card</td>\n",
       "      <td>In-store</td>\n",
       "      <td>2023-07-19</td>\n",
       "    </tr>\n",
       "    <tr>\n",
       "      <th>3</th>\n",
       "      <td>TXN_7034554</td>\n",
       "      <td>Salad</td>\n",
       "      <td>2</td>\n",
       "      <td>5.0</td>\n",
       "      <td>10.0</td>\n",
       "      <td>UNKNOWN</td>\n",
       "      <td>UNKNOWN</td>\n",
       "      <td>2023-04-27</td>\n",
       "    </tr>\n",
       "    <tr>\n",
       "      <th>4</th>\n",
       "      <td>TXN_3160411</td>\n",
       "      <td>Coffee</td>\n",
       "      <td>2</td>\n",
       "      <td>2.0</td>\n",
       "      <td>4.0</td>\n",
       "      <td>Digital Wallet</td>\n",
       "      <td>In-store</td>\n",
       "      <td>2023-06-11</td>\n",
       "    </tr>\n",
       "  </tbody>\n",
       "</table>\n",
       "</div>"
      ],
      "text/plain": [
       "  Transaction ID    Item Quantity Price Per Unit Total Spent  Payment Method  \\\n",
       "0    TXN_1961373  Coffee        2            2.0         4.0     Credit Card   \n",
       "1    TXN_4977031    Cake        4            3.0        12.0            Cash   \n",
       "2    TXN_4271903  Cookie        4            1.0       ERROR     Credit Card   \n",
       "3    TXN_7034554   Salad        2            5.0        10.0         UNKNOWN   \n",
       "4    TXN_3160411  Coffee        2            2.0         4.0  Digital Wallet   \n",
       "\n",
       "   Location Transaction Date  \n",
       "0  Takeaway       2023-09-08  \n",
       "1  In-store       2023-05-16  \n",
       "2  In-store       2023-07-19  \n",
       "3   UNKNOWN       2023-04-27  \n",
       "4  In-store       2023-06-11  "
      ]
     },
     "execution_count": 2,
     "metadata": {},
     "output_type": "execute_result"
    }
   ],
   "source": [
    "# Read in the dataset from a public repository\n",
    "url = \"https://raw.githubusercontent.com/Natasa127/CSI4142-A2/main/dirty_cafe_sales.csv\"\n",
    "sales = pd.read_csv(url)\n",
    "sales.head()"
   ]
  },
  {
   "cell_type": "code",
   "execution_count": 3,
   "metadata": {},
   "outputs": [
    {
     "name": "stdout",
     "output_type": "stream",
     "text": [
      "<class 'pandas.core.frame.DataFrame'>\n",
      "RangeIndex: 10000 entries, 0 to 9999\n",
      "Data columns (total 8 columns):\n",
      " #   Column            Non-Null Count  Dtype \n",
      "---  ------            --------------  ----- \n",
      " 0   Transaction ID    10000 non-null  object\n",
      " 1   Item              9667 non-null   object\n",
      " 2   Quantity          9862 non-null   object\n",
      " 3   Price Per Unit    9821 non-null   object\n",
      " 4   Total Spent       9827 non-null   object\n",
      " 5   Payment Method    7421 non-null   object\n",
      " 6   Location          6735 non-null   object\n",
      " 7   Transaction Date  9841 non-null   object\n",
      "dtypes: object(8)\n",
      "memory usage: 625.1+ KB\n"
     ]
    }
   ],
   "source": [
    "sales.info()"
   ]
  },
  {
   "cell_type": "code",
   "execution_count": 4,
   "metadata": {},
   "outputs": [
    {
     "data": {
      "text/plain": [
       "(10000, 8)"
      ]
     },
     "execution_count": 4,
     "metadata": {},
     "output_type": "execute_result"
    }
   ],
   "source": [
    "sales.shape"
   ]
  },
  {
   "cell_type": "markdown",
   "metadata": {},
   "source": [
    "The following line is used to left-align the markdown tables included later in the notebook.\n",
    "\n",
    "**Reference:** <br>\n",
    "https://stackoverflow.com/questions/21892570/ipython-notebook-align-table-to-the-left-of-cell"
   ]
  },
  {
   "cell_type": "code",
   "execution_count": 5,
   "metadata": {},
   "outputs": [
    {
     "data": {
      "text/html": [
       "<style>\n",
       "table {float:left}\n",
       "</style>\n"
      ],
      "text/plain": [
       "<IPython.core.display.HTML object>"
      ]
     },
     "metadata": {},
     "output_type": "display_data"
    }
   ],
   "source": [
    "%%html\n",
    "<style>\n",
    "table {float:left}\n",
    "</style>"
   ]
  },
  {
   "cell_type": "markdown",
   "metadata": {},
   "source": [
    "## Data Checks"
   ]
  },
  {
   "cell_type": "markdown",
   "metadata": {},
   "source": [
    "### 1) Data Type Errors\n",
    "\n",
    "The data type check ensures that an attribute's data is the correct data type.\n",
    "\n",
    "There are X parameters:\n",
    "- `test_attribute`: The column to perform the data type check on.\n",
    "- `test_datatype`: The desired data type of the chosen column.\n",
    "\n",
    "**References:** <br>\n",
    "Converting to numeric: https://pandas.pydata.org/docs/reference/api/pandas.to_numeric.html <br>\n",
    "Setting the type: https://www.geeksforgeeks.org/python-pandas-dataframe-astype/ <br>\n",
    "Selecting rows in one dataframe but not in another: https://discovery.cs.illinois.edu/guides/DataFrame-Row-Selection/dataframe-isin-selection/"
   ]
  },
  {
   "cell_type": "code",
   "execution_count": 6,
   "metadata": {},
   "outputs": [],
   "source": [
    "# # Parameters to be edited by the user\n",
    "# attributes = ['Quantity', 'Price Per Unit', 'Total Spent']\n",
    "# datatypes = ['int', 'float']\n",
    "\n",
    "# test_attribute = 'Quantity'\n",
    "# test_datatype = 'int'"
   ]
  },
  {
   "cell_type": "code",
   "execution_count": 7,
   "metadata": {},
   "outputs": [],
   "source": [
    "# # Error check\n",
    "\n",
    "# # Evalutes a single value's data type against the desired data type\n",
    "# def type_filter(df, col, datatype):\n",
    "#     print(\"apple\")\n",
    "\n",
    "# sales[\"Quantity\"].apply(type)"
   ]
  },
  {
   "cell_type": "markdown",
   "metadata": {},
   "source": [
    "#### Results\n",
    "\n",
    "There are X rows with a quantity that is not an integer. This seems to occur when the value is unknown, and replaced by a string such as 'UNKNOWN' or 'ERROR' instead. For example, see the ten rows below:\n",
    "\n",
    "TABLE HERE"
   ]
  },
  {
   "cell_type": "markdown",
   "metadata": {},
   "source": [
    "### 2) Range Errors\n",
    "\n",
    "This test checks the range of a numerical variable, which consists of checking if the value of the variable is within the minimum and maximum acceptable values for that attribute. Please note that our range check is inclusive, meaning we accept the provided minimum and maximum values. Remark that we also consider invalid data types as out of range.\n",
    "\n",
    "There are three parameters.\n",
    "- `test_attribute`: The column to perform the range check on.\n",
    "    - There are three options, including `Quantity`, `Price Per Unit`, and `Total Spent`, as these are the only numerical attributes. \n",
    "- `minimum`: The minimum value of the range.\n",
    "- `maximum`: The maximum value of the range."
   ]
  },
  {
   "cell_type": "code",
   "execution_count": 8,
   "metadata": {},
   "outputs": [],
   "source": [
    "# Parameters to be edited by the user\n",
    "\n",
    "# Valid attributes for the range check\n",
    "attributes = ['Quantity', 'Price Per Unit', 'Total Spent']\n",
    "\n",
    "# Attribute selection\n",
    "test_attribute = 'Quantity'\n",
    "\n",
    "# Minimum value of the range\n",
    "minimum = 1\n",
    "\n",
    "# Maximum value of the range\n",
    "maximum = 4"
   ]
  },
  {
   "cell_type": "code",
   "execution_count": 9,
   "metadata": {},
   "outputs": [
    {
     "name": "stdout",
     "output_type": "stream",
     "text": [
      "Number of rows with invalid range: 2492\n",
      "\n",
      "Example of three rows with an invalid value:\n"
     ]
    },
    {
     "data": {
      "text/html": [
       "<div>\n",
       "<style scoped>\n",
       "    .dataframe tbody tr th:only-of-type {\n",
       "        vertical-align: middle;\n",
       "    }\n",
       "\n",
       "    .dataframe tbody tr th {\n",
       "        vertical-align: top;\n",
       "    }\n",
       "\n",
       "    .dataframe thead th {\n",
       "        text-align: right;\n",
       "    }\n",
       "</style>\n",
       "<table border=\"1\" class=\"dataframe\">\n",
       "  <thead>\n",
       "    <tr style=\"text-align: right;\">\n",
       "      <th></th>\n",
       "      <th>Transaction ID</th>\n",
       "      <th>Item</th>\n",
       "      <th>Quantity</th>\n",
       "      <th>Price Per Unit</th>\n",
       "      <th>Total Spent</th>\n",
       "      <th>Payment Method</th>\n",
       "      <th>Location</th>\n",
       "      <th>Transaction Date</th>\n",
       "    </tr>\n",
       "  </thead>\n",
       "  <tbody>\n",
       "    <tr>\n",
       "      <th>5</th>\n",
       "      <td>TXN_2602893</td>\n",
       "      <td>Smoothie</td>\n",
       "      <td>5</td>\n",
       "      <td>4.0</td>\n",
       "      <td>20.0</td>\n",
       "      <td>Credit Card</td>\n",
       "      <td>NaN</td>\n",
       "      <td>2023-03-31</td>\n",
       "    </tr>\n",
       "    <tr>\n",
       "      <th>8</th>\n",
       "      <td>TXN_4717867</td>\n",
       "      <td>NaN</td>\n",
       "      <td>5</td>\n",
       "      <td>3.0</td>\n",
       "      <td>15.0</td>\n",
       "      <td>NaN</td>\n",
       "      <td>Takeaway</td>\n",
       "      <td>2023-07-28</td>\n",
       "    </tr>\n",
       "    <tr>\n",
       "      <th>9</th>\n",
       "      <td>TXN_2064365</td>\n",
       "      <td>Sandwich</td>\n",
       "      <td>5</td>\n",
       "      <td>4.0</td>\n",
       "      <td>20.0</td>\n",
       "      <td>NaN</td>\n",
       "      <td>In-store</td>\n",
       "      <td>2023-12-31</td>\n",
       "    </tr>\n",
       "  </tbody>\n",
       "</table>\n",
       "</div>"
      ],
      "text/plain": [
       "  Transaction ID      Item Quantity Price Per Unit Total Spent Payment Method  \\\n",
       "5    TXN_2602893  Smoothie        5            4.0        20.0    Credit Card   \n",
       "8    TXN_4717867       NaN        5            3.0        15.0            NaN   \n",
       "9    TXN_2064365  Sandwich        5            4.0        20.0            NaN   \n",
       "\n",
       "   Location Transaction Date  \n",
       "5       NaN       2023-03-31  \n",
       "8  Takeaway       2023-07-28  \n",
       "9  In-store       2023-12-31  "
      ]
     },
     "execution_count": 9,
     "metadata": {},
     "output_type": "execute_result"
    }
   ],
   "source": [
    "# Error check\n",
    "\n",
    "# Evaluates a single value against a given range\n",
    "def range_filter(value, minimum, maximum):\n",
    "    try:\n",
    "        value = float(value)\n",
    "    except Exception as e:\n",
    "        return False\n",
    "    return minimum <= value <= maximum\n",
    "\n",
    "# Apply the function to the test attribute, setting out of range values to True\n",
    "invalid_range = sales[test_attribute].apply(\n",
    "    lambda attribute: not range_filter(attribute, minimum, maximum)\n",
    ")\n",
    "\n",
    "# Save the invalid rows\n",
    "invalid_range_df = sales.loc[invalid_range]\n",
    "\n",
    "# Print the number of rows with a value outside of the given range for the designated attribute\n",
    "print(f\"Number of rows with invalid range: {invalid_range.sum()}\\n\")\n",
    "\n",
    "# Display the first 3 rows with a value outside of the given range for the designated attribute\n",
    "print(\"Example of three rows with an invalid value:\")\n",
    "invalid_range_df.head(3)"
   ]
  },
  {
   "cell_type": "markdown",
   "metadata": {},
   "source": [
    "#### Results\n",
    "\n",
    "Below are the example results from running the range check on the `Quantity` attribute, with the minimum set to `1` and the maximum set to `4`.\n",
    "\n",
    "There are 2492 rows where the `Quantity` value is out of range. Note that we also include wrong data types as out of range, hence the inclusion of `ERROR` in our list of values that are out of range. We also acknowledge that a maximum of `4` does not necessarily make sense in this context (people can obviously buy five sandwiches if they wish), however we chose this value to illustrate that the range check functions as intended. For examples of invalid rows, see the ten rows below:\n",
    "\n",
    "| Transaction ID | Item      | Quantity | Price Per Unit | Total Spent | Payment Method | Location  | Transaction Date |\n",
    "|---------------|----------|----------|---------------|-------------|---------------|-----------|------------------|\n",
    "| TXN_2602893  | Smoothie | 5        | 4.0           | 20.0        | Credit Card   | NaN       | 2023-03-31       |\n",
    "| TXN_4717867  | NaN      | 5        | 3.0           | 15.0        | NaN           | Takeaway  | 2023-07-28       |\n",
    "| TXN_2064365  | Sandwich | 5        | 4.0           | 20.0        | NaN           | In-store  | 2023-12-31       |\n",
    "| TXN_2548360  | Salad    | 5        | 5.0           | 25.0        | Cash          | Takeaway  | 2023-11-07       |\n",
    "| TXN_9437049  | Cookie   | 5        | 1.0           | 5.0         | NaN           | Takeaway  | 2023-06-01       |\n",
    "| TXN_8876618  | Cake     | 5        | 3.0           | 15.0        | Cash          | ERROR     | 2023-03-25       |\n",
    "| TXN_3522028  | Smoothie | ERROR    | 4.0           | 20.0        | Cash          | In-store  | 2023-04-04       |\n",
    "| TXN_9400181  | Sandwich | 5        | 4.0           | 20.0        | Cash          | In-store  | 2023-06-03       |\n",
    "| TXN_5183041  | Cookie   | 5        | 1.0           | 5.0         | Credit Card   | In-store  | 2023-04-20       |\n",
    "| TXN_8467949  | Smoothie | 5        | 4.0           | 20.0        | Credit Card   | NaN       | 2023-03-11       |\n",
    "\n"
   ]
  },
  {
   "cell_type": "markdown",
   "metadata": {},
   "source": [
    "### 3) Format Errors\n",
    "\n",
    "The format check ensures data follows a pre-defined format. For example, this test can check that:\n",
    "- Transaction ID is stored in the correct format (TXN_1234567)\n",
    "- Dates are stored in the correct format (YYYY-MM-DD)\n",
    "\n",
    "There is one parameter, `test_attribute`, which lets you select which column you would like to perform the format check on. The two options include `Transaction ID` and `Transaction Date`, as these are the only columns that have a pre-defined format.\n",
    "\n",
    "Regular expressions are used to assert the validity of the format.\n",
    "\n",
    "**References:** <br>\n",
    "Regex: https://www.w3schools.com/python/python_regex.asp"
   ]
  },
  {
   "cell_type": "code",
   "execution_count": 10,
   "metadata": {},
   "outputs": [],
   "source": [
    "# Parameters to be edited by the user\n",
    "\n",
    "# Valid attributes for the format check\n",
    "attributes = ['Transaction ID', 'Transaction Date']\n",
    "\n",
    "# Attribute selection\n",
    "test_attribute = 'Transaction Date'"
   ]
  },
  {
   "cell_type": "code",
   "execution_count": 11,
   "metadata": {},
   "outputs": [
    {
     "name": "stdout",
     "output_type": "stream",
     "text": [
      "Number of rows with invalid format: 460\n",
      "\n",
      "Example of three rows with an invalid value:\n"
     ]
    },
    {
     "data": {
      "text/html": [
       "<div>\n",
       "<style scoped>\n",
       "    .dataframe tbody tr th:only-of-type {\n",
       "        vertical-align: middle;\n",
       "    }\n",
       "\n",
       "    .dataframe tbody tr th {\n",
       "        vertical-align: top;\n",
       "    }\n",
       "\n",
       "    .dataframe thead th {\n",
       "        text-align: right;\n",
       "    }\n",
       "</style>\n",
       "<table border=\"1\" class=\"dataframe\">\n",
       "  <thead>\n",
       "    <tr style=\"text-align: right;\">\n",
       "      <th></th>\n",
       "      <th>Transaction ID</th>\n",
       "      <th>Item</th>\n",
       "      <th>Quantity</th>\n",
       "      <th>Price Per Unit</th>\n",
       "      <th>Total Spent</th>\n",
       "      <th>Payment Method</th>\n",
       "      <th>Location</th>\n",
       "      <th>Transaction Date</th>\n",
       "    </tr>\n",
       "  </thead>\n",
       "  <tbody>\n",
       "    <tr>\n",
       "      <th>11</th>\n",
       "      <td>TXN_3051279</td>\n",
       "      <td>Sandwich</td>\n",
       "      <td>2</td>\n",
       "      <td>4.0</td>\n",
       "      <td>8.0</td>\n",
       "      <td>Credit Card</td>\n",
       "      <td>Takeaway</td>\n",
       "      <td>ERROR</td>\n",
       "    </tr>\n",
       "    <tr>\n",
       "      <th>29</th>\n",
       "      <td>TXN_7640952</td>\n",
       "      <td>Cake</td>\n",
       "      <td>4</td>\n",
       "      <td>3.0</td>\n",
       "      <td>12.0</td>\n",
       "      <td>Digital Wallet</td>\n",
       "      <td>Takeaway</td>\n",
       "      <td>ERROR</td>\n",
       "    </tr>\n",
       "    <tr>\n",
       "      <th>33</th>\n",
       "      <td>TXN_7710508</td>\n",
       "      <td>UNKNOWN</td>\n",
       "      <td>5</td>\n",
       "      <td>1.0</td>\n",
       "      <td>5.0</td>\n",
       "      <td>Cash</td>\n",
       "      <td>NaN</td>\n",
       "      <td>ERROR</td>\n",
       "    </tr>\n",
       "  </tbody>\n",
       "</table>\n",
       "</div>"
      ],
      "text/plain": [
       "   Transaction ID      Item Quantity Price Per Unit Total Spent  \\\n",
       "11    TXN_3051279  Sandwich        2            4.0         8.0   \n",
       "29    TXN_7640952      Cake        4            3.0        12.0   \n",
       "33    TXN_7710508   UNKNOWN        5            1.0         5.0   \n",
       "\n",
       "    Payment Method  Location Transaction Date  \n",
       "11     Credit Card  Takeaway            ERROR  \n",
       "29  Digital Wallet  Takeaway            ERROR  \n",
       "33            Cash       NaN            ERROR  "
      ]
     },
     "execution_count": 11,
     "metadata": {},
     "output_type": "execute_result"
    }
   ],
   "source": [
    "# Error Check\n",
    "\n",
    "# Select the necessary regex based on the chosen test attribute\n",
    "format_regex = r\"^TXN_\\d{7}$\" if test_attribute == 'Transaction ID' else r\"^\\d{4}-\\d{2}-\\d{2}$\"\n",
    "\n",
    "# Evaluates a single value against a given regex format\n",
    "def format_filter(value, format_regex):\n",
    "    return False if not isinstance(value, str) else bool(re.findall(format_regex, value))\n",
    "\n",
    "# Apply the function to the test attribute, setting invalid formats to True\n",
    "invalid_format = sales[test_attribute].apply(\n",
    "    lambda attribute: not format_filter(attribute, format_regex)\n",
    ")\n",
    "\n",
    "# Save the invalid rows\n",
    "invalid_format_df = sales.loc[invalid_format]\n",
    "\n",
    "# Print the number of rows with invalid formatting on the chosen test attribute\n",
    "print(f\"Number of rows with invalid format: {invalid_format.sum()}\\n\")\n",
    "\n",
    "# Display the first 3 rows with invalid formatting on the chosen test attribute\n",
    "print(\"Example of three rows with an invalid value:\")\n",
    "invalid_format_df.head(3)"
   ]
  },
  {
   "cell_type": "markdown",
   "metadata": {},
   "source": [
    "#### Results\n",
    "\n",
    "Below are the example results from running the format check on the `Transaction Date` column.\n",
    "\n",
    "There are 460 rows where the transaction date is in the wrong format. For example, see the ten rows below:\n",
    "\n",
    "| Transaction ID | Item      | Quantity | Price Per Unit | Total Spent | Payment Method | Location  | Transaction Date |\n",
    "|---------------|----------|----------|---------------|-------------|---------------|-----------|------------------|\n",
    "| TXN_3051279  | Sandwich | 2        | 4.0           | 8.0         | Credit Card   | Takeaway  | ERROR            |\n",
    "| TXN_7640952  | Cake     | 4        | 3.0           | 12.0        | Digital Wallet| Takeaway  | ERROR            |\n",
    "| TXN_7710508  | UNKNOWN  | 5        | 1.0           | 5.0         | Cash          | NaN       | ERROR            |\n",
    "| TXN_2091733  | Salad    | 1        | 5.0           | 5.0         | NaN           | In-store  | NaN              |\n",
    "| TXN_7028009  | Cake     | 4        | 3.0           | 12.0        | NaN           | Takeaway  | ERROR            |\n",
    "| TXN_7447872  | Juice    | 2        | NaN           | 6.0         | NaN           | NaN       | NaN              |\n",
    "| TXN_1001832  | Salad    | 2        | 5.0           | 10.0        | Cash          | Takeaway  | UNKNOWN          |\n",
    "| TXN_7943008  | Coffee   | 1        | 2.0           | 2.0         | Credit Card   | NaN       | ERROR            |\n",
    "| TXN_1093800  | Sandwich | 3        | 4.0           | 12.0        | Cash          | Takeaway  | NaN              |\n",
    "| TXN_6463132  | Cookie   | 5        | 1.0           | 5.0         | Credit Card   | Takeaway  | NaN              |"
   ]
  },
  {
   "cell_type": "markdown",
   "metadata": {},
   "source": [
    "### 5) Uniqueness Errors\n",
    "\n",
    "The uniqueness check ensures that each value in a column is unique.\n",
    "\n",
    "There is one parameter:\n",
    "- `test_attribute`: The column to perform the uniqueness check on.\n",
    "    - There is only one option, `Transaction ID`, since that is the only column that is meant to be unique.\n",
    " \n",
    "Note that the uniqueness check could be run on any of the column, but we only provide `Transaction ID` in the selection because it is the only attribute that is meant to be unique. Feel free to run the test on any other attribute for detection of rows that contain a value that is not unique in the specified column.\n",
    "\n",
    "**References:** <br>\n",
    "Accessing a Specific Value From Value Counts: https://stackoverflow.com/questions/35277075/python-pandas-counting-the-occurrences-of-a-specific-value"
   ]
  },
  {
   "cell_type": "code",
   "execution_count": 33,
   "metadata": {},
   "outputs": [],
   "source": [
    "# Parameters to be edited by the user\n",
    "\n",
    "# Valid attributes for the uniqueness check\n",
    "# The uniqueness check would run on any column, but this is the only column that should be unique, thus it is the only column included in our list of valid attributes.\n",
    "attributes = ['Transaction ID']\n",
    "\n",
    "# Attribute selection\n",
    "test_attribute = 'Transaction ID'"
   ]
  },
  {
   "cell_type": "code",
   "execution_count": 34,
   "metadata": {},
   "outputs": [
    {
     "name": "stdout",
     "output_type": "stream",
     "text": [
      "Number of rows with invalid uniqueness: 0\n",
      "\n",
      "Example of three rows with invalid uniqueness:\n"
     ]
    },
    {
     "data": {
      "text/html": [
       "<div>\n",
       "<style scoped>\n",
       "    .dataframe tbody tr th:only-of-type {\n",
       "        vertical-align: middle;\n",
       "    }\n",
       "\n",
       "    .dataframe tbody tr th {\n",
       "        vertical-align: top;\n",
       "    }\n",
       "\n",
       "    .dataframe thead th {\n",
       "        text-align: right;\n",
       "    }\n",
       "</style>\n",
       "<table border=\"1\" class=\"dataframe\">\n",
       "  <thead>\n",
       "    <tr style=\"text-align: right;\">\n",
       "      <th></th>\n",
       "      <th>Transaction ID</th>\n",
       "      <th>Item</th>\n",
       "      <th>Quantity</th>\n",
       "      <th>Price Per Unit</th>\n",
       "      <th>Total Spent</th>\n",
       "      <th>Payment Method</th>\n",
       "      <th>Location</th>\n",
       "      <th>Transaction Date</th>\n",
       "    </tr>\n",
       "  </thead>\n",
       "  <tbody>\n",
       "  </tbody>\n",
       "</table>\n",
       "</div>"
      ],
      "text/plain": [
       "Empty DataFrame\n",
       "Columns: [Transaction ID, Item, Quantity, Price Per Unit, Total Spent, Payment Method, Location, Transaction Date]\n",
       "Index: []"
      ]
     },
     "execution_count": 34,
     "metadata": {},
     "output_type": "execute_result"
    }
   ],
   "source": [
    "# Error Check\n",
    "\n",
    "# Store a series of the counts of each value in the chosen column\n",
    "attribute_series_counts = sales[test_attribute].value_counts()\n",
    "\n",
    "# Evaluates a single value, checking if it is unique in the chosen column\n",
    "def uniqueness_filter(value, counts):\n",
    "    if pd.isna(value):\n",
    "        return False\n",
    "    if counts[value] == 1:\n",
    "        return True\n",
    "    return False\n",
    "\n",
    "# Apply the function to the test attribute, setting rows with non-unique values in the designated column to True\n",
    "invalid_uniqueness = sales[test_attribute].apply(\n",
    "    lambda attribute: not uniqueness_filter(attribute, attribute_series_counts)\n",
    ")\n",
    "\n",
    "# Save the invalid rows\n",
    "invalid_uniqueness_df = sales.loc[invalid_uniqueness]\n",
    "\n",
    "# Print the number of rows with invalid formatting on the chosen test attribute\n",
    "print(f\"Number of rows with invalid uniqueness: {invalid_uniqueness.sum()}\\n\")\n",
    "\n",
    "# Display the first 3 rows with invalid formatting on the chosen test attribute\n",
    "print(\"Example of three rows with invalid uniqueness:\")\n",
    "invalid_uniqueness_df.head(3)"
   ]
  },
  {
   "cell_type": "markdown",
   "metadata": {},
   "source": [
    "#### Results\n",
    "\n",
    "In the `Transaction ID` column, there are no duplicates, thus there are no rows with invalid uniqueness in the context of the `Transaction ID` column.\n",
    "\n",
    "We will add a few rows to an altered version of the dataset with duplicate `Transaction ID` values, maintained as a DataFrame called `altered_sales`, to demonstrate that the uniqueness checker properly identifies duplicates. \n",
    "\n",
    "**References:** <br>\n",
    "Add Rows to DF: https://www.geeksforgeeks.org/how-to-add-one-row-in-an-existing-pandas-dataframe/"
   ]
  },
  {
   "cell_type": "code",
   "execution_count": 42,
   "metadata": {},
   "outputs": [
    {
     "data": {
      "text/html": [
       "<div>\n",
       "<style scoped>\n",
       "    .dataframe tbody tr th:only-of-type {\n",
       "        vertical-align: middle;\n",
       "    }\n",
       "\n",
       "    .dataframe tbody tr th {\n",
       "        vertical-align: top;\n",
       "    }\n",
       "\n",
       "    .dataframe thead th {\n",
       "        text-align: right;\n",
       "    }\n",
       "</style>\n",
       "<table border=\"1\" class=\"dataframe\">\n",
       "  <thead>\n",
       "    <tr style=\"text-align: right;\">\n",
       "      <th></th>\n",
       "      <th>Transaction ID</th>\n",
       "      <th>Item</th>\n",
       "      <th>Quantity</th>\n",
       "      <th>Price Per Unit</th>\n",
       "      <th>Total Spent</th>\n",
       "      <th>Payment Method</th>\n",
       "      <th>Location</th>\n",
       "      <th>Transaction Date</th>\n",
       "    </tr>\n",
       "  </thead>\n",
       "  <tbody>\n",
       "    <tr>\n",
       "      <th>9998</th>\n",
       "      <td>TXN_7695629</td>\n",
       "      <td>Cookie</td>\n",
       "      <td>3</td>\n",
       "      <td>NaN</td>\n",
       "      <td>3.0</td>\n",
       "      <td>Digital Wallet</td>\n",
       "      <td>NaN</td>\n",
       "      <td>2023-12-02</td>\n",
       "    </tr>\n",
       "    <tr>\n",
       "      <th>9999</th>\n",
       "      <td>TXN_6170729</td>\n",
       "      <td>Sandwich</td>\n",
       "      <td>3</td>\n",
       "      <td>4.0</td>\n",
       "      <td>12.0</td>\n",
       "      <td>Cash</td>\n",
       "      <td>In-store</td>\n",
       "      <td>2023-11-07</td>\n",
       "    </tr>\n",
       "    <tr>\n",
       "      <th>10000</th>\n",
       "      <td>TXN_1535311</td>\n",
       "      <td>Coffee</td>\n",
       "      <td>2</td>\n",
       "      <td>2.0</td>\n",
       "      <td>4.0</td>\n",
       "      <td>Cash</td>\n",
       "      <td>Takeaway</td>\n",
       "      <td>2023-09-08</td>\n",
       "    </tr>\n",
       "    <tr>\n",
       "      <th>10001</th>\n",
       "      <td>TXN_1222338</td>\n",
       "      <td>Cookie</td>\n",
       "      <td>4</td>\n",
       "      <td>1.0</td>\n",
       "      <td>3.0</td>\n",
       "      <td>Cash</td>\n",
       "      <td>Takeaway</td>\n",
       "      <td>2023-10-08</td>\n",
       "    </tr>\n",
       "    <tr>\n",
       "      <th>10002</th>\n",
       "      <td>TXN_6842808</td>\n",
       "      <td>Sandwich</td>\n",
       "      <td>2</td>\n",
       "      <td>4.0</td>\n",
       "      <td>8.0</td>\n",
       "      <td>Cash</td>\n",
       "      <td>Takeaway</td>\n",
       "      <td>2023-09-10</td>\n",
       "    </tr>\n",
       "  </tbody>\n",
       "</table>\n",
       "</div>"
      ],
      "text/plain": [
       "      Transaction ID      Item Quantity Price Per Unit Total Spent  \\\n",
       "9998     TXN_7695629    Cookie        3            NaN         3.0   \n",
       "9999     TXN_6170729  Sandwich        3            4.0        12.0   \n",
       "10000    TXN_1535311    Coffee        2            2.0         4.0   \n",
       "10001    TXN_1222338    Cookie        4            1.0         3.0   \n",
       "10002    TXN_6842808  Sandwich        2            4.0         8.0   \n",
       "\n",
       "       Payment Method  Location Transaction Date  \n",
       "9998   Digital Wallet       NaN       2023-12-02  \n",
       "9999             Cash  In-store       2023-11-07  \n",
       "10000            Cash  Takeaway       2023-09-08  \n",
       "10001            Cash  Takeaway       2023-10-08  \n",
       "10002            Cash  Takeaway       2023-09-10  "
      ]
     },
     "execution_count": 42,
     "metadata": {},
     "output_type": "execute_result"
    }
   ],
   "source": [
    "# Prepare the altered dataset\n",
    "altered_sales = sales.copy()\n",
    "\n",
    "# Create new rows with duplicate transaction ids\n",
    "duplicate_transaction_ids = pd.DataFrame({\n",
    "    \"Transaction ID\": [\"TXN_1535311\", \"TXN_1222338\", \"TXN_6842808\"],\n",
    "    \"Item\": [\"Coffee\", \"Cookie\", \"Sandwich\"],\n",
    "    \"Quantity\": [\"2\", \"4\", \"2\"],\n",
    "    \"Price Per Unit\": [\"2.0\", \"1.0\", \"4.0\"],\n",
    "    \"Total Spent\": [\"4.0\", \"3.0\", \"8.0\"],\n",
    "    \"Payment Method\": [\"Cash\", \"Cash\", \"Cash\"],\n",
    "    \"Location\": [\"Takeaway\", \"Takeaway\", \"Takeaway\"],\n",
    "    \"Transaction Date\": [\"2023-09-08\", \"2023-10-08\", \"2023-09-10\"]\n",
    "})\n",
    "\n",
    "altered_sales = pd.concat([altered_sales, duplicate_transaction_ids], ignore_index=True)\n",
    "altered_sales.tail()"
   ]
  },
  {
   "cell_type": "code",
   "execution_count": 45,
   "metadata": {},
   "outputs": [
    {
     "name": "stdout",
     "output_type": "stream",
     "text": [
      "Number of rows with invalid uniqueness: 6\n",
      "\n",
      "Example of three rows with invalid uniqueness:\n"
     ]
    },
    {
     "data": {
      "text/html": [
       "<div>\n",
       "<style scoped>\n",
       "    .dataframe tbody tr th:only-of-type {\n",
       "        vertical-align: middle;\n",
       "    }\n",
       "\n",
       "    .dataframe tbody tr th {\n",
       "        vertical-align: top;\n",
       "    }\n",
       "\n",
       "    .dataframe thead th {\n",
       "        text-align: right;\n",
       "    }\n",
       "</style>\n",
       "<table border=\"1\" class=\"dataframe\">\n",
       "  <thead>\n",
       "    <tr style=\"text-align: right;\">\n",
       "      <th></th>\n",
       "      <th>Transaction ID</th>\n",
       "      <th>Item</th>\n",
       "      <th>Quantity</th>\n",
       "      <th>Price Per Unit</th>\n",
       "      <th>Total Spent</th>\n",
       "      <th>Payment Method</th>\n",
       "      <th>Location</th>\n",
       "      <th>Transaction Date</th>\n",
       "    </tr>\n",
       "  </thead>\n",
       "  <tbody>\n",
       "    <tr>\n",
       "      <th>116</th>\n",
       "      <td>TXN_1535311</td>\n",
       "      <td>Juice</td>\n",
       "      <td>3</td>\n",
       "      <td>3.0</td>\n",
       "      <td>9.0</td>\n",
       "      <td>Cash</td>\n",
       "      <td>NaN</td>\n",
       "      <td>2023-03-16</td>\n",
       "    </tr>\n",
       "    <tr>\n",
       "      <th>306</th>\n",
       "      <td>TXN_1222338</td>\n",
       "      <td>Cookie</td>\n",
       "      <td>1</td>\n",
       "      <td>1.0</td>\n",
       "      <td>1.0</td>\n",
       "      <td>NaN</td>\n",
       "      <td>In-store</td>\n",
       "      <td>2023-10-11</td>\n",
       "    </tr>\n",
       "    <tr>\n",
       "      <th>521</th>\n",
       "      <td>TXN_6842808</td>\n",
       "      <td>Tea</td>\n",
       "      <td>2</td>\n",
       "      <td>1.5</td>\n",
       "      <td>3.0</td>\n",
       "      <td>NaN</td>\n",
       "      <td>UNKNOWN</td>\n",
       "      <td>2023-10-22</td>\n",
       "    </tr>\n",
       "  </tbody>\n",
       "</table>\n",
       "</div>"
      ],
      "text/plain": [
       "    Transaction ID    Item Quantity Price Per Unit Total Spent Payment Method  \\\n",
       "116    TXN_1535311   Juice        3            3.0         9.0           Cash   \n",
       "306    TXN_1222338  Cookie        1            1.0         1.0            NaN   \n",
       "521    TXN_6842808     Tea        2            1.5         3.0            NaN   \n",
       "\n",
       "     Location Transaction Date  \n",
       "116       NaN       2023-03-16  \n",
       "306  In-store       2023-10-11  \n",
       "521   UNKNOWN       2023-10-22  "
      ]
     },
     "execution_count": 45,
     "metadata": {},
     "output_type": "execute_result"
    }
   ],
   "source": [
    "# Error check on altered dataset\n",
    "\n",
    "# Store a series of the counts of each value in the chosen column\n",
    "attribute_series_counts = altered_sales[test_attribute].value_counts()\n",
    "\n",
    "# Apply the function to the test attribute, setting rows with non-unique values in the designated column to True\n",
    "invalid_uniqueness = altered_sales[test_attribute].apply(\n",
    "    lambda attribute: not uniqueness_filter(attribute, attribute_series_counts)\n",
    ")\n",
    "\n",
    "# Save the invalid rows\n",
    "invalid_uniqueness_df = altered_sales.loc[invalid_uniqueness]\n",
    "\n",
    "# Print the number of rows with invalid formatting on the chosen test attribute\n",
    "print(f\"Number of rows with invalid uniqueness: {invalid_uniqueness.sum()}\\n\")\n",
    "\n",
    "# Display the first 3 rows with invalid formatting on the chosen test attribute\n",
    "print(\"Example of three rows with invalid uniqueness:\")\n",
    "invalid_uniqueness_df.head(3)"
   ]
  },
  {
   "cell_type": "markdown",
   "metadata": {},
   "source": [
    "#### Results on Altered Dataset\n",
    "\n",
    "Below are the example results from running the uniqueness check on the `Transaction ID` column on the altered dataset, which has three new rows with duplicate `Transaction ID` values.\n",
    "\n",
    "As expected, there are 6 rows where the `Transaction ID` value is not unique. See the invalid rows below.\n",
    "\n",
    "| Transaction ID | Item     | Quantity | Price Per Unit | Total Spent | Payment Method | Location  | Transaction Date |\n",
    "|---------------|---------|----------|---------------|-------------|---------------|-----------|------------------|\n",
    "| TXN_1535311  | Juice   | 3        | 3.0           | 9.0         | Cash          | NaN       | 2023-03-16       |\n",
    "| TXN_1222338  | Cookie  | 1        | 1.0           | 1.0         | NaN           | In-store  | 2023-10-11       |\n",
    "| TXN_6842808  | Tea     | 2        | 1.5           | 3.0         | NaN           | UNKNOWN   | 2023-10-22       |\n",
    "| TXN_1535311  | Coffee  | 2        | 2.0           | 4.0         | Cash          | Takeaway  | 2023-09-08       |\n",
    "| TXN_1222338  | Cookie  | 4        | 1.0           | 3.0         | Cash          | Takeaway  | 2023-10-08       |\n",
    "| TXN_6842808  | Sandwich | 2       | 4.0           | 8.0         | Cash          | Takeaway  | 2023-09-10       |\n"
   ]
  },
  {
   "cell_type": "code",
   "execution_count": null,
   "metadata": {},
   "outputs": [],
   "source": []
  }
 ],
 "metadata": {
  "kernelspec": {
   "display_name": "Python 3 (ipykernel)",
   "language": "python",
   "name": "python3"
  },
  "language_info": {
   "codemirror_mode": {
    "name": "ipython",
    "version": 3
   },
   "file_extension": ".py",
   "mimetype": "text/x-python",
   "name": "python",
   "nbconvert_exporter": "python",
   "pygments_lexer": "ipython3",
   "version": "3.12.2"
  }
 },
 "nbformat": 4,
 "nbformat_minor": 4
}
