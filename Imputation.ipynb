{
 "cells": [
  {
   "cell_type": "markdown",
   "metadata": {},
   "source": [
    "# Assignment 2: Data Cleaning - Part 2: Imputation\n",
    "## Group 105\n",
    "- Natasa Bolic (300241734)\n",
    "- Brent Palmer (300193610)\n",
    "## Imports"
   ]
  },
  {
   "cell_type": "code",
   "execution_count": 32,
   "metadata": {},
   "outputs": [],
   "source": [
    "# Imports\n",
    "import pandas as pd\n",
    "import numpy as np\n",
    "import matplotlib.pyplot as plt\n",
    "import seaborn as sns\n",
    "from sklearn.metrics import mean_squared_error, mean_absolute_error, r2_score\n",
    "from sklearn.impute import KNNImputer"
   ]
  },
  {
   "cell_type": "markdown",
   "metadata": {},
   "source": [
    "## Introduction\n",
    "\n",
    "Paragraph here"
   ]
  },
  {
   "cell_type": "markdown",
   "metadata": {},
   "source": [
    "## Dataset Description"
   ]
  },
  {
   "cell_type": "markdown",
   "metadata": {},
   "source": [
    "**Url:** https://www.kaggle.com/datasets/uciml/autompg-dataset <br>\n",
    "**Name:** Auto-mpg Dataset <br>\n",
    "**Author:** UCI Machine Learning Repository (originally from StatLib library, maintained at Carnegie Mellon University) <br>\n",
    "**Purpose:** The dataset includes the technical specifications of cars. The original purpose of collection is not explicitly listed on Kaggle, but it appears to have been collected to evaluate how fuel consumption relates to various other attributes of vehicles (e.g., horsepower, weight). In 1993, Ross Quinlan used the dataset to train a machine learning model to predict fuel consumption based on the other eight features.<br>\n",
    "**Shape:** There are 398 rows and 9 columns. (398, 9)<br>\n",
    "**Features:** Further explanation of the features retrieved from https://code.datasciencedojo.com/tshrivas/dojoHub/tree/master/Auto%20MPG%20Data%20Set\n",
    "- `mpg` (numerical): The vehicle's fuel efficiency, measured in miles per gallon (mpg).\n",
    "- `cylinders` (categorical): The number of cylinders in the vehicle's engine.\n",
    "- `displacement` (numerical): The total volume of the cylinders in the vehicle, measured in cubic inches.\n",
    "- `horsepower` (numerical): A measurement of the vehicle's engine's power.\n",
    "- `weight` (numerical): The weight of the vehicle, measured in pounds (lbs).\n",
    "- `acceleration` (numerical): Time to go from 0 to 60 miles per hour, measured in seconds.\n",
    "- `model year` (categorical): The year of release of the vehicle.\n",
    "- `origin` (categorical): The region of manufacturing.\n",
    "    - 1: USA\n",
    "    - 2: Europe\n",
    "    - 3: Japan\n",
    "- `car name` (categorical): The name of the vehicle."
   ]
  },
  {
   "cell_type": "markdown",
   "metadata": {},
   "source": [
    "**Missing Values:** Yes, there are missing values. In particular, horsepower has 6 missing values."
   ]
  },
  {
   "cell_type": "markdown",
   "metadata": {},
   "source": [
    "## Loading Dataset and Basic Exploration"
   ]
  },
  {
   "cell_type": "code",
   "execution_count": 2,
   "metadata": {},
   "outputs": [
    {
     "data": {
      "text/html": [
       "<div>\n",
       "<style scoped>\n",
       "    .dataframe tbody tr th:only-of-type {\n",
       "        vertical-align: middle;\n",
       "    }\n",
       "\n",
       "    .dataframe tbody tr th {\n",
       "        vertical-align: top;\n",
       "    }\n",
       "\n",
       "    .dataframe thead th {\n",
       "        text-align: right;\n",
       "    }\n",
       "</style>\n",
       "<table border=\"1\" class=\"dataframe\">\n",
       "  <thead>\n",
       "    <tr style=\"text-align: right;\">\n",
       "      <th></th>\n",
       "      <th>mpg</th>\n",
       "      <th>cylinders</th>\n",
       "      <th>displacement</th>\n",
       "      <th>horsepower</th>\n",
       "      <th>weight</th>\n",
       "      <th>acceleration</th>\n",
       "      <th>model year</th>\n",
       "      <th>origin</th>\n",
       "      <th>car name</th>\n",
       "    </tr>\n",
       "  </thead>\n",
       "  <tbody>\n",
       "    <tr>\n",
       "      <th>0</th>\n",
       "      <td>18.0</td>\n",
       "      <td>8</td>\n",
       "      <td>307.0</td>\n",
       "      <td>130</td>\n",
       "      <td>3504</td>\n",
       "      <td>12.0</td>\n",
       "      <td>70</td>\n",
       "      <td>1</td>\n",
       "      <td>chevrolet chevelle malibu</td>\n",
       "    </tr>\n",
       "    <tr>\n",
       "      <th>1</th>\n",
       "      <td>15.0</td>\n",
       "      <td>8</td>\n",
       "      <td>350.0</td>\n",
       "      <td>165</td>\n",
       "      <td>3693</td>\n",
       "      <td>11.5</td>\n",
       "      <td>70</td>\n",
       "      <td>1</td>\n",
       "      <td>buick skylark 320</td>\n",
       "    </tr>\n",
       "    <tr>\n",
       "      <th>2</th>\n",
       "      <td>18.0</td>\n",
       "      <td>8</td>\n",
       "      <td>318.0</td>\n",
       "      <td>150</td>\n",
       "      <td>3436</td>\n",
       "      <td>11.0</td>\n",
       "      <td>70</td>\n",
       "      <td>1</td>\n",
       "      <td>plymouth satellite</td>\n",
       "    </tr>\n",
       "    <tr>\n",
       "      <th>3</th>\n",
       "      <td>16.0</td>\n",
       "      <td>8</td>\n",
       "      <td>304.0</td>\n",
       "      <td>150</td>\n",
       "      <td>3433</td>\n",
       "      <td>12.0</td>\n",
       "      <td>70</td>\n",
       "      <td>1</td>\n",
       "      <td>amc rebel sst</td>\n",
       "    </tr>\n",
       "    <tr>\n",
       "      <th>4</th>\n",
       "      <td>17.0</td>\n",
       "      <td>8</td>\n",
       "      <td>302.0</td>\n",
       "      <td>140</td>\n",
       "      <td>3449</td>\n",
       "      <td>10.5</td>\n",
       "      <td>70</td>\n",
       "      <td>1</td>\n",
       "      <td>ford torino</td>\n",
       "    </tr>\n",
       "  </tbody>\n",
       "</table>\n",
       "</div>"
      ],
      "text/plain": [
       "    mpg  cylinders  displacement horsepower  weight  acceleration  model year  \\\n",
       "0  18.0          8         307.0        130    3504          12.0          70   \n",
       "1  15.0          8         350.0        165    3693          11.5          70   \n",
       "2  18.0          8         318.0        150    3436          11.0          70   \n",
       "3  16.0          8         304.0        150    3433          12.0          70   \n",
       "4  17.0          8         302.0        140    3449          10.5          70   \n",
       "\n",
       "   origin                   car name  \n",
       "0       1  chevrolet chevelle malibu  \n",
       "1       1          buick skylark 320  \n",
       "2       1         plymouth satellite  \n",
       "3       1              amc rebel sst  \n",
       "4       1                ford torino  "
      ]
     },
     "execution_count": 2,
     "metadata": {},
     "output_type": "execute_result"
    }
   ],
   "source": [
    "# Read in the dataset from a public repository\n",
    "url = \"https://raw.githubusercontent.com/Natasa127/CSI4142-A2/refs/heads/main/auto-mpg.csv\"\n",
    "auto_df = pd.read_csv(url)\n",
    "auto_df.head()"
   ]
  },
  {
   "cell_type": "code",
   "execution_count": 3,
   "metadata": {},
   "outputs": [
    {
     "name": "stdout",
     "output_type": "stream",
     "text": [
      "<class 'pandas.core.frame.DataFrame'>\n",
      "RangeIndex: 398 entries, 0 to 397\n",
      "Data columns (total 9 columns):\n",
      " #   Column        Non-Null Count  Dtype  \n",
      "---  ------        --------------  -----  \n",
      " 0   mpg           398 non-null    float64\n",
      " 1   cylinders     398 non-null    int64  \n",
      " 2   displacement  398 non-null    float64\n",
      " 3   horsepower    398 non-null    object \n",
      " 4   weight        398 non-null    int64  \n",
      " 5   acceleration  398 non-null    float64\n",
      " 6   model year    398 non-null    int64  \n",
      " 7   origin        398 non-null    int64  \n",
      " 8   car name      398 non-null    object \n",
      "dtypes: float64(3), int64(4), object(2)\n",
      "memory usage: 28.1+ KB\n"
     ]
    }
   ],
   "source": [
    "auto_df.info()"
   ]
  },
  {
   "cell_type": "code",
   "execution_count": 4,
   "metadata": {},
   "outputs": [
    {
     "data": {
      "text/plain": [
       "(398, 9)"
      ]
     },
     "execution_count": 4,
     "metadata": {},
     "output_type": "execute_result"
    }
   ],
   "source": [
    "auto_df.shape"
   ]
  },
  {
   "cell_type": "markdown",
   "metadata": {},
   "source": [
    "### Basic Cleaning\n",
    "Since there are only six missing values in the entire dataset (1.5% of the rows), we decided to use the listwise removal approach to delete these rows. The assignment requires simulating missing values (as indicated by part b), which enables us to do cross-validation since we know the true values of the data. Thus, deleting these six rows in advance will make the cross-validation approach possible. Since it is such a small amount of data, this deletion will not significantly impact our analysis.\n",
    "\n",
    "**References:** <br>\n",
    "Listwise removal: https://saturncloud.io/blog/how-to-remove-rows-with-specific-values-in-pandas-dataframe/ <br>\n",
    "Series equality: https://pandas.pydata.org/docs/reference/api/pandas.Series.eq.html"
   ]
  },
  {
   "cell_type": "code",
   "execution_count": 5,
   "metadata": {},
   "outputs": [],
   "source": [
    "auto_df = auto_df.drop(auto_df[auto_df['horsepower'] == '?'].index)"
   ]
  },
  {
   "cell_type": "code",
   "execution_count": 6,
   "metadata": {},
   "outputs": [
    {
     "data": {
      "text/plain": [
       "0"
      ]
     },
     "execution_count": 6,
     "metadata": {},
     "output_type": "execute_result"
    }
   ],
   "source": [
    "auto_df['horsepower'].eq('?').sum()"
   ]
  },
  {
   "cell_type": "markdown",
   "metadata": {},
   "source": [
    "The six rows have successfully been removed, and we are now ready for imputation and evaluation using cross-validation with simulation."
   ]
  },
  {
   "cell_type": "markdown",
   "metadata": {},
   "source": [
    "## Imputation Tests"
   ]
  },
  {
   "cell_type": "markdown",
   "metadata": {},
   "source": [
    "### Imputation Test 1: Random Sample Imputation of Missing Acceleration Values (Univariate)"
   ]
  },
  {
   "cell_type": "markdown",
   "metadata": {},
   "source": [
    "#### (a) Chosen Attribute\n",
    "\n",
    "We have chosen to test random sample imputation (univariate) on the acceleration attribute."
   ]
  },
  {
   "cell_type": "markdown",
   "metadata": {},
   "source": [
    "#### (b) Simulate Missing Values\n",
    "\n",
    "We are simulating missing acceleration values using the MCAR approach, where the missing acceleration values are chosen completely at random regardless of their own value or the values of the other attributes.\n",
    "\n",
    "We are simulating the missing values in a copy of the original DataFrame such that we can evaluate the imputation accuracy afterwards by comparing the imputed acceleration values with the true acceleration values.\n",
    "\n",
    "**References:** <br>\n",
    "MCAR: https://www.kaggle.com/code/yassirarezki/handling-missing-data-mcar-mar-and-mnar-part-i <br>\n",
    "Loc Documentation: https://pandas.pydata.org/docs/reference/api/pandas.DataFrame.loc.html <br>\n",
    "Copy Documentation: https://pandas.pydata.org/docs/reference/api/pandas.DataFrame.copy.html <br>\n",
    "Fixing Random Seed: https://stackoverflow.com/questions/21494489/what-does-numpy-random-seed0-do"
   ]
  },
  {
   "cell_type": "code",
   "execution_count": 7,
   "metadata": {},
   "outputs": [
    {
     "data": {
      "text/plain": [
       "39"
      ]
     },
     "execution_count": 7,
     "metadata": {},
     "output_type": "execute_result"
    }
   ],
   "source": [
    "# Create a copy of the DataFrame\n",
    "missing_acceleration_df = auto_df.copy()\n",
    "\n",
    "# Set the random seed to make the results reproducible (comment this out to try on truly random missing values)\n",
    "np.random.seed(0)\n",
    "\n",
    "# Generate a series that holds True for rows that will be missing, and False for rows that will persist\n",
    "missing_percent = 0.1\n",
    "missing_values = np.random.choice([True, False], len(auto_df), p=[missing_percent, 1 - missing_percent])\n",
    "\n",
    "# Replace the acceleration with NaN where the missing_values series is True\n",
    "missing_acceleration_df.loc[missing_values, \"acceleration\"] = np.nan\n",
    "\n",
    "# Check to see if values are missing\n",
    "missing_acceleration_df['acceleration'].isna().sum()"
   ]
  },
  {
   "cell_type": "markdown",
   "metadata": {},
   "source": [
    "#### (c) Program an Imputation Approach to Replace the Missing Values\n",
    "\n",
    "We have chosen random sample imputation as our first imputation approach. Random sample imputation is a univariate technique.\n",
    "\n",
    "**References:** <br>\n",
    "Sample Documentation: https://pandas.pydata.org/docs/reference/api/pandas.DataFrame.sample.html"
   ]
  },
  {
   "cell_type": "code",
   "execution_count": 8,
   "metadata": {},
   "outputs": [
    {
     "data": {
      "text/plain": [
       "0"
      ]
     },
     "execution_count": 8,
     "metadata": {},
     "output_type": "execute_result"
    }
   ],
   "source": [
    "# Save a series of the non-missing acceleration values\n",
    "acceleration_values = missing_acceleration_df.loc[missing_acceleration_df['acceleration'].notna(), 'acceleration']\n",
    "\n",
    "# Sample a number of non-missing acceleration values with replacement equal to the number of missing values\n",
    "# Note that random state is set to one to make the results reproducible. This can be removed for truly random samples\n",
    "sampled_acceleration_values = acceleration_values.sample(missing_acceleration_df['acceleration'].isna().sum(), replace=True, random_state=1).values\n",
    "\n",
    "# Replace the missing values with sampled acceleration values\n",
    "missing_acceleration_df.loc[missing_values, \"acceleration\"] = sampled_acceleration_values\n",
    "\n",
    "# Check to see if values are missing\n",
    "missing_acceleration_df['acceleration'].isna().sum()"
   ]
  },
  {
   "cell_type": "markdown",
   "metadata": {},
   "source": [
    "#### (d) Evaluate to What Extent Your Approach is Finding the Missing Values\n",
    "\n",
    "Since we are using the cross-validation with simulation approach where we simulate missing data, we can compare our imputed values to the true values.\n",
    "\n",
    "##### Evaluation Using MSE\n",
    "\n",
    "We will first use the Mean Squared Error (MSE) approach, where we take the average of the squared difference of each imputed value with the respective true value.\n",
    "\n",
    "**References:** <br>\n",
    "Mean Squared Error: https://scikit-learn.org/stable/modules/generated/sklearn.metrics.mean_squared_error.html"
   ]
  },
  {
   "cell_type": "code",
   "execution_count": 9,
   "metadata": {},
   "outputs": [
    {
     "data": {
      "text/plain": [
       "9.729999999999997"
      ]
     },
     "execution_count": 9,
     "metadata": {},
     "output_type": "execute_result"
    }
   ],
   "source": [
    "# First determine the original values of the missing data\n",
    "original_values = auto_df.loc[missing_values, 'acceleration'].values\n",
    "\n",
    "# Then determine the imputed values of the missing data\n",
    "random_sampling_imputed_values = missing_acceleration_df.loc[missing_values, 'acceleration'].values\n",
    "\n",
    "# Compute MSE\n",
    "mse = mean_squared_error(original_values, random_sampling_imputed_values)\n",
    "mse"
   ]
  },
  {
   "cell_type": "markdown",
   "metadata": {},
   "source": [
    "Thus, the mean squared error is 9.73 using random sample imputation. The MSE is not particularly intuitive to interpret as a standalone value since it is measured in squared units. A great way to interpret MSE is to compare it to the MSE of a baseline method, like median imputation. In the following cell we will perform median imputation, and compare the MSE values to evaluate the effectiveness of the random sampling method."
   ]
  },
  {
   "cell_type": "code",
   "execution_count": 10,
   "metadata": {},
   "outputs": [
    {
     "data": {
      "text/plain": [
       "5.330512820512821"
      ]
     },
     "execution_count": 10,
     "metadata": {},
     "output_type": "execute_result"
    }
   ],
   "source": [
    "# Replace the imputed values with NaN where the missing_values series is True.\n",
    "missing_acceleration_df.loc[missing_values, \"acceleration\"] = np.nan\n",
    "\n",
    "# Save the median of the non-missing acceleration values\n",
    "acceleration_median = missing_acceleration_df.loc[missing_acceleration_df['acceleration'].notna(), 'acceleration'].median()\n",
    "\n",
    "# Replace the missing values with median\n",
    "missing_acceleration_df.loc[missing_values, \"acceleration\"] = acceleration_median\n",
    "\n",
    "# Compute MSE\n",
    "original_values = auto_df.loc[missing_values, 'acceleration'].values\n",
    "median_imputed_values = missing_acceleration_df.loc[missing_values, 'acceleration'].values\n",
    "median_mse = mean_squared_error(original_values, median_imputed_values)\n",
    "median_mse"
   ]
  },
  {
   "cell_type": "markdown",
   "metadata": {},
   "source": [
    "Given that random sampling gave an MSE of 9.73 and default value imputation using the median gave an MSE of 5.33, the random sampling approach is not very good comparatively in this case. \n",
    "\n",
    "##### Evaluation Using MAE\n",
    "\n",
    "A second approach to evaluation is Mean Absolute Error (MAE), which is more intuitive since the units of MAE are the same as the original data. MAE takes the average absolute difference between each imputed value with the respective true value.\n",
    "\n",
    "**References:** <br>\n",
    "Mean Squared Error: https://scikit-learn.org/stable/modules/generated/sklearn.metrics.mean_absolute_error.html"
   ]
  },
  {
   "cell_type": "code",
   "execution_count": 11,
   "metadata": {},
   "outputs": [
    {
     "data": {
      "text/plain": [
       "2.6128205128205124"
      ]
     },
     "execution_count": 11,
     "metadata": {},
     "output_type": "execute_result"
    }
   ],
   "source": [
    "mae = mean_absolute_error(original_values, random_sampling_imputed_values)\n",
    "mae"
   ]
  },
  {
   "cell_type": "markdown",
   "metadata": {},
   "source": [
    "The MAE is 2.61, which means that on average, the imputed acceleration had an error of 2.61 seconds. Given our domain knowledge, a value of 2.61 seconds is not very large of an error for acceleration.\n",
    "\n",
    "##### Evaluation Using R-Squared\n",
    "\n",
    "A third approach to evaluation is R-Squared, which computes the variance in the line with the original data.\n",
    "\n",
    "**References:** <br>\n",
    "R-Squared: https://scikit-learn.org/stable/modules/generated/sklearn.metrics.r2_score.html"
   ]
  },
  {
   "cell_type": "code",
   "execution_count": 12,
   "metadata": {},
   "outputs": [
    {
     "data": {
      "text/plain": [
       "-1.0689971899509283"
      ]
     },
     "execution_count": 12,
     "metadata": {},
     "output_type": "execute_result"
    }
   ],
   "source": [
    "r2 = r2_score(original_values, random_sampling_imputed_values)\n",
    "r2"
   ]
  },
  {
   "cell_type": "markdown",
   "metadata": {},
   "source": [
    "Explanation of r2_score\n",
    "\n",
    "##### Evaluation Conclusion\n",
    "Despite the random sampling MSE being notably worse than the default value imputation using the median MSE, random sampling is still usable as seen through the reasonable MAE score of 2.61 seconds. "
   ]
  },
  {
   "cell_type": "markdown",
   "metadata": {},
   "source": [
    "### Imputation Test 2: Correlational Imputation of Missing Weight Values Using Displacement (Bivariate)"
   ]
  },
  {
   "cell_type": "markdown",
   "metadata": {},
   "source": [
    "#### (a) Chosen Attribute\n",
    "\n",
    "We have chosen to test correlational imputation (bivariate) on the weight attribute, where weight is the attribute with missing values that is being imputed.\n",
    "\n",
    "However, when using correlational imputation, we need to select an attribute that is correlated with weight to base the imputation on. To determine the best attribute to select, we generate a correlation matrix to identify the feature that is most strongly correlated with weight."
   ]
  },
  {
   "cell_type": "code",
   "execution_count": 13,
   "metadata": {},
   "outputs": [
    {
     "data": {
      "image/png": "[encoded data removed]",
      "text/plain": [
       "<Figure size 640x480 with 2 Axes>"
      ]
     },
     "metadata": {},
     "output_type": "display_data"
    }
   ],
   "source": [
    "# Plot correlation heatmap\n",
    "correlation_heatmap = sns.heatmap(auto_df.corr(numeric_only=True), cmap=\"YlGnBu\", annot=True)\n",
    "\n",
    "# Displaying heatmap\n",
    "plt.show()"
   ]
  },
  {
   "cell_type": "markdown",
   "metadata": {},
   "source": [
    "Since weight is highly correlated with displacement, we will use displacement as the correlated attribute that our imputation is based on.\n",
    "\n",
    "**References:** <br>\n",
    "Correlation Heatmap: https://www.geeksforgeeks.org/how-to-create-a-seaborn-correlation-heatmap-in-python/"
   ]
  },
  {
   "cell_type": "markdown",
   "metadata": {},
   "source": [
    "#### (b) Simulate Missing Values\n",
    "\n",
    "We are simulating missing weight values using the MAR approach, where the missing weight values are chosen based on their relation to other observed variables, but not the weight value itself.\n",
    "\n",
    "Specifically, we decided that the chance the weight is missing is related to the country of origin.\n",
    "- American cars will have a 5% chance of a missing weight\n",
    "- European cars will have a 10% chance of a missing weight\n",
    "- Japanese cars will have a 20% chance of a missing weight\n",
    "\n",
    "We are simulating the missing values in a copy of the original DataFrame such that we can evaluate the imputation accuracy afterwards by comparing the imputed weight values with the true weight values.\n",
    "\n",
    "**References:** <br>\n",
    "Apply: https://pandas.pydata.org/docs/reference/api/pandas.DataFrame.apply.html <br>\n",
    "Random: https://www.w3schools.com/python/numpy/numpy_random.asp"
   ]
  },
  {
   "cell_type": "code",
   "execution_count": 14,
   "metadata": {},
   "outputs": [
    {
     "data": {
      "text/plain": [
       "33"
      ]
     },
     "execution_count": 14,
     "metadata": {},
     "output_type": "execute_result"
    }
   ],
   "source": [
    "# Create a copy of the DataFrame\n",
    "missing_weight_df = auto_df.copy()\n",
    "\n",
    "# Set the random seed to make the results reproducible (comment this out to try on truly random missing values)\n",
    "np.random.seed(0)\n",
    "\n",
    "# Create a function to return the probability that a weight is missing based on the origin\n",
    "def weight_missing_probability(origin):\n",
    "    # 5% chance an American car has a missing weight\n",
    "    if origin == 1:\n",
    "        return 0.05\n",
    "    # 10% chance a European car has a missing weight\n",
    "    elif origin == 2:\n",
    "        return 0.1\n",
    "    # 20% chance a Japanese car has a missing weight\n",
    "    return 0.2\n",
    "\n",
    "# Use the function above to create a vector representing the probability that each car's weight is missing\n",
    "missing_probabilities = missing_weight_df['origin'].apply(weight_missing_probability)\n",
    "\n",
    "# Create a boolean vector that represents which weights will be missing based on the missing probabilities and a vector of randomly generated values between 0 and 1\n",
    "missing_values = np.random.rand(len(missing_probabilities)) < missing_probabilities\n",
    "\n",
    "# Replace the weight with NaN where the missing_values vector is True\n",
    "missing_weight_df.loc[missing_values, \"weight\"] = np.nan\n",
    "\n",
    "# Check to see if values are missing\n",
    "missing_weight_df[\"weight\"].isna().sum()"
   ]
  },
  {
   "cell_type": "markdown",
   "metadata": {},
   "source": [
    "#### (c) Program an Imputation Approach to Replace the Missing Values\n",
    "\n",
    "We have chosen correlational imputation as our second imputation approach. Correlational imputation is a bivariate technique.\n",
    "\n",
    "**References:** <br>\n",
    "Linear Correlation Formula: https://uottawa.brightspace.com/d2l/le/content/490358/viewContent/6647323/View (Slide 44) <br>\n",
    "Pearson Correlation: https://pandas.pydata.org/docs/reference/api/pandas.Series.corr.html#pandas.Series.corr <br>\n",
    "Lambda in Apply: https://www.geeksforgeeks.org/applying-lambda-functions-to-pandas-dataframe/"
   ]
  },
  {
   "cell_type": "code",
   "execution_count": 15,
   "metadata": {},
   "outputs": [
    {
     "data": {
      "text/plain": [
       "0"
      ]
     },
     "execution_count": 15,
     "metadata": {},
     "output_type": "execute_result"
    }
   ],
   "source": [
    "# Calculate inputs to the linear correlation imputation formula\n",
    "pearson_correlation = missing_weight_df['weight'].corr(missing_weight_df['displacement'])\n",
    "weight_mean_y = missing_weight_df['weight'].mean()\n",
    "weight_std_y = missing_weight_df['weight'].std()\n",
    "displacement_mean_x = missing_weight_df['displacement'].mean()\n",
    "displacement_std_x = missing_weight_df['displacement'].std()\n",
    "\n",
    "# Function that computes the missing value based on the correlation between the missing attribute and a predictor attribute\n",
    "def linear_correlation(X, pearson_correlation, mean_y, std_y, mean_x, std_x):\n",
    "    return pearson_correlation * (std_y/std_x) * (X - mean_x) + mean_y\n",
    "\n",
    "# Applies the linear correlation function to each missing weight, taking the corresponding displacement as input, alongside other necessary inputs calculated above\n",
    "missing_weight_df.loc[missing_values, \"weight\"] = missing_weight_df.loc[missing_values, \"displacement\"].apply(\n",
    "    lambda displacement: linear_correlation(displacement, pearson_correlation, weight_mean_y, weight_std_y, displacement_mean_x, displacement_std_x)\n",
    ")\n",
    "\n",
    "# Check to see if values are missing\n",
    "missing_weight_df[\"weight\"].isna().sum()"
   ]
  },
  {
   "cell_type": "markdown",
   "metadata": {},
   "source": [
    "#### (d) Evaluate to What Extent Your Approach is Finding the Missing Values\n",
    "\n",
    "Since we are using the cross-validation with simulation approach where we simulate missing data, we can compare our imputed values to the true values.\n",
    "\n",
    "##### Evaluation Using MSE\n",
    "\n",
    "We will first use the Mean Squared Error (MSE) approach, where we take the average of the squared difference of each imputed value with the respective true value."
   ]
  },
  {
   "cell_type": "code",
   "execution_count": 16,
   "metadata": {},
   "outputs": [
    {
     "data": {
      "text/plain": [
       "80874.72411653938"
      ]
     },
     "execution_count": 16,
     "metadata": {},
     "output_type": "execute_result"
    }
   ],
   "source": [
    "# First determine the original values of the missing data\n",
    "original_values = auto_df.loc[missing_values, 'weight'].values\n",
    "\n",
    "# Then determine the imputed values of the missing data\n",
    "correlational_imputed_values = missing_weight_df.loc[missing_values, 'weight'].values\n",
    "\n",
    "# Compute MSE\n",
    "mse = mean_squared_error(original_values, correlational_imputed_values)\n",
    "mse"
   ]
  },
  {
   "cell_type": "markdown",
   "metadata": {},
   "source": [
    "Thus, the mean squared error is 80875 using correlational imputation. The large number is alarming, but bear in mind that MSE is not particularly intuitive to interpret as a standalone value since it is measured in squared units. A great way to interpret MSE is to compare it to the MSE of a baseline method, like median imputation. In the following cell we will perform median imputation, and compare the MSE values to evaluate the effectiveness of the correlational imputation method."
   ]
  },
  {
   "cell_type": "code",
   "execution_count": 17,
   "metadata": {},
   "outputs": [
    {
     "data": {
      "text/plain": [
       "388843.0303030303"
      ]
     },
     "execution_count": 17,
     "metadata": {},
     "output_type": "execute_result"
    }
   ],
   "source": [
    "# Replace the imputed values with NaN where the missing_values series is True.\n",
    "missing_weight_df.loc[missing_values, \"weight\"] = np.nan\n",
    "\n",
    "# Save the median of the non-missing weight values\n",
    "weight_median = missing_weight_df.loc[missing_weight_df['weight'].notna(), 'weight'].median()\n",
    "\n",
    "# Replace the missing values with median\n",
    "missing_weight_df.loc[missing_values, \"weight\"] = weight_median\n",
    "\n",
    "# Compute MSE\n",
    "original_values = auto_df.loc[missing_values, 'weight'].values\n",
    "median_imputed_values = missing_weight_df.loc[missing_values, 'weight'].values\n",
    "median_mse = mean_squared_error(original_values, median_imputed_values)\n",
    "median_mse"
   ]
  },
  {
   "cell_type": "markdown",
   "metadata": {},
   "source": [
    "Given that correlational imputation gave an MSE of 80875 and default value imputation using the median gave an MSE of 388843, the correlational imputation approach is extremely effective; the MSE of the default value imputation is 4.8x larger, a notable difference.\n",
    "\n",
    "##### Evaluation Using MAE\n",
    "\n",
    "A second approach to evaluation is Mean Absolute Error (MAE), which is more intuitive since the units of MAE are the same as the original data. MAE takes the average absolute difference between each imputed value with the respective true value."
   ]
  },
  {
   "cell_type": "code",
   "execution_count": 18,
   "metadata": {},
   "outputs": [
    {
     "data": {
      "text/plain": [
       "215.34079050612416"
      ]
     },
     "execution_count": 18,
     "metadata": {},
     "output_type": "execute_result"
    }
   ],
   "source": [
    "mae = mean_absolute_error(original_values, correlational_imputed_values)\n",
    "mae"
   ]
  },
  {
   "cell_type": "markdown",
   "metadata": {},
   "source": [
    "The MAE is 215, which means that on average, the imputed weight had an error of 215 pounds. Given our domain knowledge, a value of 215 pounds is not very large of an error for weight.\n",
    "\n",
    "##### Evaluation Using R-Squared\n",
    "\n",
    "A third approach to evaluation is R-Squared, which computes the variance in the line with the original data. "
   ]
  },
  {
   "cell_type": "code",
   "execution_count": 19,
   "metadata": {},
   "outputs": [
    {
     "data": {
      "text/plain": [
       "0.7124952944787646"
      ]
     },
     "execution_count": 19,
     "metadata": {},
     "output_type": "execute_result"
    }
   ],
   "source": [
    "r2 = r2_score(original_values, correlational_imputed_values)\n",
    "r2"
   ]
  },
  {
   "cell_type": "markdown",
   "metadata": {},
   "source": [
    "Explanation of r2_score\n",
    "\n",
    "##### Evaluation Conclusion\n",
    "Correlational imputation scored a much better MSE than the default value imputation using the median MSE (median imputation MSE was 4.8x larger), so it is an improvement over the default. The MAE score of 215 pounds is very reasonable, given how large and varied the weights of vehicles are. Finally, the R-squared score of 0.72 PLACEHOLDER EXPLANATION. Overall, the correlational imputation was very successful at imputing missing weight values."
   ]
  },
  {
   "cell_type": "markdown",
   "metadata": {},
   "source": [
    "### Imputation Test 3: Similarity-based Imputation of Missing MPG Values (Multivariate)"
   ]
  },
  {
   "cell_type": "markdown",
   "metadata": {},
   "source": [
    "#### (a) Chosen Attribute\n",
    "\n",
    "We have chosen to test similarity-based imputation (multivariate) on the mpg (miles per gallon) attribute."
   ]
  },
  {
   "cell_type": "markdown",
   "metadata": {},
   "source": [
    "#### (b) Simulate Missing Values\n",
    "\n",
    "We are simulating missing mpg values using the MNAR approach, where the missing mpg values are chosen based on their relation to their own value, and not just their relation to other observed variables.\n",
    "\n",
    "Specifically, we decided that the chance the mpg is missing is related to the following thresholds:\n",
    "- Cars with mpg <= 20 will have a 20% chance of a missing mpg value\n",
    "- Cars with 20 < mpg <= 30 will have a 10% chance of a missing mpg value\n",
    "- Cars with mpg > 30 will have a 5% chance of a missing mpg value\n",
    "\n",
    "We have made it more likely that a cars with a poor mileage are missing data, since hypothetically, the manufacturers would not want to disclose poor fuel efficiency. We made cars with good mileage less likely to be missing data, since manufactureres would take pride in the value and be more likely to report it.\n",
    "\n",
    "We are simulating the missing values in a copy of the original DataFrame such that we can evaluate the imputation accuracy afterwards by comparing the imputed weight values with the true weight values."
   ]
  },
  {
   "cell_type": "code",
   "execution_count": 60,
   "metadata": {},
   "outputs": [
    {
     "data": {
      "text/plain": [
       "51"
      ]
     },
     "execution_count": 60,
     "metadata": {},
     "output_type": "execute_result"
    }
   ],
   "source": [
    "# Create a copy of the DataFrame\n",
    "missing_mpg_df = auto_df.copy()\n",
    "\n",
    "# Set the random seed to make the results reproducible (comment this out to try on truly random missing values)\n",
    "np.random.seed(0)\n",
    "\n",
    "# Create a function to return the probability that an mpg value is missing based on the mpg value\n",
    "def mpg_missing_probability(mpg):\n",
    "    # Cars with mpg <= 20 will have a 20% chance of a missing mpg value\n",
    "    if mpg <= 20:\n",
    "        return 0.2\n",
    "    # Cars with 20 < mpg <= 30 will have a 10% chance of a missing mpg value\n",
    "    elif mpg <= 30:\n",
    "        return 0.1\n",
    "    # Cars with mpg > 30 will have a 5% chance of a missing mpg value\n",
    "    return 0.05\n",
    "\n",
    "# Use the function above to create a vector representing the probability that each car's mpg value is missing\n",
    "missing_probabilities = missing_mpg_df['mpg'].apply(mpg_missing_probability)\n",
    "\n",
    "# Create a boolean vector that represents which weights will be missing based on the missing probabilities and a vector of randomly generated values between 0 and 1\n",
    "missing_values = np.random.rand(len(missing_probabilities)) < missing_probabilities\n",
    "\n",
    "# Replace the mpg with NaN where the missing_values vector is True\n",
    "missing_mpg_df.loc[missing_values, \"mpg\"] = np.nan\n",
    "\n",
    "# Check to see if values are missing\n",
    "missing_mpg_df[\"mpg\"].isna().sum()"
   ]
  },
  {
   "cell_type": "markdown",
   "metadata": {},
   "source": [
    "#### (c) Program an Imputation Approach to Replace the Missing Values\n",
    "\n",
    "We have chosen similarity-based imputation as our third imputation approach. Specifically, we are using KNN imputation as our implementation of similarity-based imputation. Similarity-based imputation is a multivariate technique.\n",
    "\n",
    "**References:** <br>\n",
    "Select Data Types: https://pandas.pydata.org/docs/reference/api/pandas.DataFrame.select_dtypes.html <br>\n",
    "KNN Imputer: https://www.geeksforgeeks.org/handling-missing-data-with-knn-imputer/ <br>\n",
    "Array to DF: https://www.geeksforgeeks.org/convert-a-numpy-array-to-pandas-dataframe-with-headers/"
   ]
  },
  {
   "cell_type": "code",
   "execution_count": 61,
   "metadata": {},
   "outputs": [
    {
     "data": {
      "text/plain": [
       "0"
      ]
     },
     "execution_count": 61,
     "metadata": {},
     "output_type": "execute_result"
    }
   ],
   "source": [
    "# Initialize KNN Imputer\n",
    "imputer = KNNImputer(n_neighbors=2, weights=\"uniform\")\n",
    "\n",
    "# Select only the numeric columns\n",
    "numeric_columns = missing_mpg_df.select_dtypes(include='number').columns\n",
    "\n",
    "# Impute missing values\n",
    "imputed_mpg_array = imputer.fit_transform(missing_mpg_df[numeric_columns])\n",
    "\n",
    "# Convert returned array to DataFrame\n",
    "imputed_mpg_df = pd.DataFrame(imputed_mpg_array, columns=numeric_columns, index=missing_mpg_df.index)\n",
    "\n",
    "# Update the original DataFrame with new values\n",
    "missing_mpg_df[\"mpg\"] = imputed_mpg_df[\"mpg\"]\n",
    "\n",
    "# Check to see if values are missing\n",
    "missing_mpg_df[\"mpg\"].isna().sum()"
   ]
  },
  {
   "cell_type": "markdown",
   "metadata": {},
   "source": [
    "#### (d) Evaluate to What Extent Your Approach is Finding the Missing Values\n",
    "\n",
    "Since we are using the cross-validation with simulation approach where we simulate missing data, we can compare our imputed values to the true values.\n",
    "\n",
    "##### Evaluation Using MSE\n",
    "\n",
    "We will first use the Mean Squared Error (MSE) approach, where we take the average of the squared difference of each imputed value with the respective true value."
   ]
  },
  {
   "cell_type": "code",
   "execution_count": 62,
   "metadata": {},
   "outputs": [
    {
     "data": {
      "text/plain": [
       "13.644411764705882"
      ]
     },
     "execution_count": 62,
     "metadata": {},
     "output_type": "execute_result"
    }
   ],
   "source": [
    "# First determine the original values of the missing data\n",
    "original_values = auto_df.loc[missing_values, 'mpg'].values\n",
    "\n",
    "# Then determine the imputed values of the missing data\n",
    "similarity_based_imputed_values = missing_mpg_df.loc[missing_values, 'mpg'].values\n",
    "\n",
    "# Compute MSE\n",
    "mse = mean_squared_error(original_values, similarity_based_imputed_values)\n",
    "mse"
   ]
  },
  {
   "cell_type": "markdown",
   "metadata": {},
   "source": [
    "Thus, the mean squared error is 13.6 using similarity-based imputation. Note that the MSE is not particularly intuitive to interpret as a standalone value since it is measured in square units. A great way to interpret MSE is to compare it to the MSE of a baseline method, like median imputation. In the following cell we will perform median imputation, and compare the MSE values to evaluate the effectiveness of the similarity-based imputation method."
   ]
  },
  {
   "cell_type": "code",
   "execution_count": 65,
   "metadata": {},
   "outputs": [
    {
     "data": {
      "text/plain": [
       "49.42392156862745"
      ]
     },
     "execution_count": 65,
     "metadata": {},
     "output_type": "execute_result"
    }
   ],
   "source": [
    "# Replace the imputed values with NaN where the missing_values series is True\n",
    "missing_mpg_df.loc[missing_values, \"mpg\"] = np.nan\n",
    "\n",
    "# Save the median of the non-missing mpg values\n",
    "mpg_median = missing_mpg_df.loc[missing_mpg_df[\"mpg\"].notna(), \"mpg\"].median()\n",
    "\n",
    "# Replace the missing values with the median\n",
    "missing_mpg_df.loc[missing_values, \"mpg\"] = mpg_median\n",
    "\n",
    "# Compute MSE\n",
    "original_values = auto_df.loc[missing_values, \"mpg\"].values\n",
    "median_imputed_values = missing_mpg_df.loc[missing_values, \"mpg\"].values\n",
    "median_mse = mean_squared_error(original_values, median_imputed_values)\n",
    "median_mse"
   ]
  },
  {
   "cell_type": "markdown",
   "metadata": {},
   "source": [
    "Given that similarity-based imputation gave an MSE of 13.6 and default value imputation using the median gave an MSE of 49.4, the correlational imputation approach is extremely effective; the MSE of the default value imputation is 3.6x larger, a notable difference.\n",
    "\n",
    "##### Evaluation Using MAE\n",
    "\n",
    "A second approach to evaluation is Mean Absolute Error (MAE), which is more intuitive since the units of MAE are the same as the original data. MAE takes the average absolute difference between each imputed value with the respective true value."
   ]
  },
  {
   "cell_type": "code",
   "execution_count": 66,
   "metadata": {},
   "outputs": [
    {
     "data": {
      "text/plain": [
       "2.731372549019608"
      ]
     },
     "execution_count": 66,
     "metadata": {},
     "output_type": "execute_result"
    }
   ],
   "source": [
    "mae = mean_absolute_error(original_values, similarity_based_imputed_values)\n",
    "mae"
   ]
  },
  {
   "cell_type": "markdown",
   "metadata": {},
   "source": [
    "The MAE is 2.73, which means that on average, the imputed mpg had an error of 2.73 miles per gallon. Given our domain knowledge, an error of 2.73 miles per gallon is not a very large error for MPG.\n",
    "\n",
    "##### Evaluation Using R-Squared\n",
    "\n",
    "A third approach to evaluation is R-Squared, which computes the variance in the line with the original data. "
   ]
  },
  {
   "cell_type": "code",
   "execution_count": 68,
   "metadata": {},
   "outputs": [
    {
     "data": {
      "text/plain": [
       "0.654422105150612"
      ]
     },
     "execution_count": 68,
     "metadata": {},
     "output_type": "execute_result"
    }
   ],
   "source": [
    "r2 = r2_score(original_values, similarity_based_imputed_values)\n",
    "r2"
   ]
  },
  {
   "cell_type": "markdown",
   "metadata": {},
   "source": [
    "Explanation of r2_score\n",
    "\n",
    "##### Evaluation Conclusion\n",
    "\n",
    "Similarity-based imputation using KNN scored a much better MSE than the default value imputation using the median MSE (median imputation MSE was 3.6x larger), so it is an improvement over the default. The MAE score of 2.73 pounds is very reasonable, given the magnitude the mpg of vehicles are. Finally, the R-squared score of 0.65 PLACEHOLDER EXPLANATION. Overall, the similarity-based imputation using KNN was very successful at imputing missing mpg values."
   ]
  },
  {
   "cell_type": "code",
   "execution_count": null,
   "metadata": {},
   "outputs": [],
   "source": []
  }
 ],
 "metadata": {
  "kernelspec": {
   "display_name": "Python 3 (ipykernel)",
   "language": "python",
   "name": "python3"
  },
  "language_info": {
   "codemirror_mode": {
    "name": "ipython",
    "version": 3
   },
   "file_extension": ".py",
   "mimetype": "text/x-python",
   "name": "python",
   "nbconvert_exporter": "python",
   "pygments_lexer": "ipython3",
   "version": "3.12.2"
  }
 },
 "nbformat": 4,
 "nbformat_minor": 4
}
